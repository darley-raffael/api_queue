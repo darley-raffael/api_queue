{
 "cells": [
  {
   "cell_type": "code",
   "execution_count": 6,
   "metadata": {},
   "outputs": [
    {
     "data": {
      "text/plain": [
       "'0:00:03.005706'"
      ]
     },
     "execution_count": 6,
     "metadata": {},
     "output_type": "execute_result"
    }
   ],
   "source": [
    "from datetime import datetime\n",
    "from time import sleep\n",
    "\n",
    "now =datetime.now()\n",
    "\n",
    "def interval(start_time, end_time):\n",
    "    # diff format HH:MM:SS\n",
    "    diff = end_time - start_time\n",
    "    # format timedelta HH:MM:SS\n",
    "    return str(diff)\n",
    "\n",
    "\n",
    "\n",
    "end = datetime.now()\n",
    "\n",
    "interval(now, end)"
   ]
  }
 ],
 "metadata": {
  "kernelspec": {
   "display_name": ".venv",
   "language": "python",
   "name": "python3"
  },
  "language_info": {
   "codemirror_mode": {
    "name": "ipython",
    "version": 3
   },
   "file_extension": ".py",
   "mimetype": "text/x-python",
   "name": "python",
   "nbconvert_exporter": "python",
   "pygments_lexer": "ipython3",
   "version": "3.12.3"
  }
 },
 "nbformat": 4,
 "nbformat_minor": 2
}
